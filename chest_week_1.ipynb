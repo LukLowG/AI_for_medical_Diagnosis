{
 "cells": [
  {
   "cell_type": "code",
   "execution_count": 3,
   "metadata": {},
   "outputs": [
    {
     "ename": "ModuleNotFoundError",
     "evalue": "No module named 'tensorflow.keras'",
     "output_type": "error",
     "traceback": [
      "\u001b[31m---------------------------------------------------------------------------\u001b[39m",
      "\u001b[31mModuleNotFoundError\u001b[39m                       Traceback (most recent call last)",
      "\u001b[36mCell\u001b[39m\u001b[36m \u001b[39m\u001b[32mIn[3]\u001b[39m\u001b[32m, line 8\u001b[39m\n\u001b[32m      5\u001b[39m \u001b[38;5;28;01mimport\u001b[39;00m\u001b[38;5;250m \u001b[39m\u001b[34;01mmatplotlib\u001b[39;00m\u001b[34;01m.\u001b[39;00m\u001b[34;01mpyplot\u001b[39;00m\u001b[38;5;250m \u001b[39m\u001b[38;5;28;01mas\u001b[39;00m\u001b[38;5;250m \u001b[39m\u001b[34;01mplt\u001b[39;00m\n\u001b[32m      6\u001b[39m \u001b[38;5;28;01mimport\u001b[39;00m\u001b[38;5;250m \u001b[39m\u001b[34;01mseaborn\u001b[39;00m\u001b[38;5;250m \u001b[39m\u001b[38;5;28;01mas\u001b[39;00m\u001b[38;5;250m \u001b[39m\u001b[34;01msns\u001b[39;00m\n\u001b[32m----> \u001b[39m\u001b[32m8\u001b[39m \u001b[38;5;28;01mfrom\u001b[39;00m\u001b[38;5;250m \u001b[39m\u001b[34;01mtensorflow\u001b[39;00m\u001b[34;01m.\u001b[39;00m\u001b[34;01mkeras\u001b[39;00m\u001b[34;01m.\u001b[39;00m\u001b[34;01mpreprocessing\u001b[39;00m\u001b[34;01m.\u001b[39;00m\u001b[34;01mimage\u001b[39;00m\u001b[38;5;250m \u001b[39m\u001b[38;5;28;01mimport\u001b[39;00m ImageDataGenerator\n\u001b[32m     10\u001b[39m \u001b[38;5;66;03m# Paths\u001b[39;00m\n\u001b[32m     11\u001b[39m base_dir = \u001b[33m'\u001b[39m\u001b[33m./archive\u001b[39m\u001b[33m'\u001b[39m\n",
      "\u001b[31mModuleNotFoundError\u001b[39m: No module named 'tensorflow.keras'"
     ]
    }
   ],
   "source": [
    "# Chest X-Ray Diagnosis with Deep Learning - Starter Notebook (NIH Chest X-ray14)\n",
    "\n",
    "import os\n",
    "import pandas as pd\n",
    "import matplotlib.pyplot as plt\n",
    "import seaborn as sns\n",
    "\n",
    "from tensorflow.keras.preprocessing.image import ImageDataGenerator\n",
    "\n",
    "# Paths\n",
    "base_dir = './archive'\n",
    "image_dirs = [os.path.join(base_dir, f'images_{i:03}') for i in range(1, 13)]\n",
    "data_csv_path = os.path.join(base_dir, 'Data_Entry_2017.csv')\n",
    "\n",
    "# Load metadata\n",
    "metadata = pd.read_csv(data_csv_path)\n",
    "print(\"Total entries:\", len(metadata))\n",
    "print(metadata.head())\n",
    "\n",
    "# Build full image path\n",
    "image_path_map = {}\n",
    "for img_dir in image_dirs:\n",
    "    for fname in os.listdir(img_dir):\n",
    "        image_path_map[fname] = os.path.join(img_dir, fname)\n",
    "\n",
    "metadata['full_path'] = metadata['Image Index'].map(image_path_map.get)\n",
    "\n",
    "# Filter missing paths\n",
    "metadata = metadata[metadata['full_path'].notnull()]\n",
    "print(\"Valid image paths:\", len(metadata))\n",
    "\n",
    "# Preview label distribution\n",
    "plt.figure(figsize=(12, 6))\n",
    "label_counts = metadata['Finding Labels'].value_counts().sort_values(ascending=False)\n",
    "sns.barplot(x=label_counts.values[:15], y=label_counts.index[:15])\n",
    "plt.title('Top 15 Diagnoses in Dataset')\n",
    "plt.xlabel('Count')\n",
    "plt.tight_layout()\n",
    "plt.show()\n",
    "\n",
    "# ---------------------------\n",
    "# ImageDataGenerator Setup\n",
    "# ---------------------------\n",
    "\n",
    "# Convert multilabel strings to single label by choosing the first label (for now)\n",
    "metadata['Finding Labels'] = metadata['Finding Labels'].apply(lambda x: x.split('|')[0])\n",
    "\n",
    "# Initialize generator\n",
    "datagen = ImageDataGenerator(\n",
    "    rescale=1./255,\n",
    "    validation_split=0.2\n",
    ")\n",
    "\n",
    "# Training generator\n",
    "train_gen = datagen.flow_from_dataframe(\n",
    "    dataframe=metadata,\n",
    "    x_col='full_path',\n",
    "    y_col='Finding Labels',\n",
    "    target_size=(224, 224),\n",
    "    batch_size=32,\n",
    "    class_mode='categorical',\n",
    "    subset='training'\n",
    ")\n",
    "\n",
    "# Validation generator\n",
    "val_gen = datagen.flow_from_dataframe(\n",
    "    dataframe=metadata,\n",
    "    x_col='full_path',\n",
    "    y_col='Finding Labels',\n",
    "    target_size=(224, 224),\n",
    "    batch_size=32,\n",
    "    class_mode='categorical',\n",
    "    subset='validation'\n",
    ")\n"
   ]
  }
 ],
 "metadata": {
  "kernelspec": {
   "display_name": "venv",
   "language": "python",
   "name": "python3"
  },
  "language_info": {
   "codemirror_mode": {
    "name": "ipython",
    "version": 3
   },
   "file_extension": ".py",
   "mimetype": "text/x-python",
   "name": "python",
   "nbconvert_exporter": "python",
   "pygments_lexer": "ipython3",
   "version": "3.12.9"
  }
 },
 "nbformat": 4,
 "nbformat_minor": 2
}
